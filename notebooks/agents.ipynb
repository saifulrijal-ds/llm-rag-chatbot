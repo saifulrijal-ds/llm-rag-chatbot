{
 "cells": [
  {
   "cell_type": "code",
   "execution_count": 1,
   "metadata": {},
   "outputs": [],
   "source": [
    "import os\n",
    "os.chdir(\"/home/ubuntu/llm/llm-rag-chatbot\")"
   ]
  },
  {
   "cell_type": "code",
   "execution_count": 2,
   "metadata": {},
   "outputs": [],
   "source": [
    "from langchain_intro.chatbot import hospital_agent_executor"
   ]
  },
  {
   "cell_type": "code",
   "execution_count": 3,
   "metadata": {},
   "outputs": [
    {
     "name": "stdout",
     "output_type": "stream",
     "text": [
      "\n",
      "\n",
      "\u001b[1m> Entering new AgentExecutor chain...\u001b[0m\n",
      "\u001b[32;1m\u001b[1;3m\n",
      "Invoking: `Waits` with `C`\n",
      "\n",
      "\n",
      "\u001b[0m\u001b[33;1m\u001b[1;3m2665\u001b[0m\u001b[32;1m\u001b[1;3mThe current wait time at hospital C is 26 minutes and 5 seconds.\u001b[0m\n",
      "\n",
      "\u001b[1m> Finished chain.\u001b[0m\n"
     ]
    },
    {
     "data": {
      "text/plain": [
       "{'input': 'What is the current wait time at hospital C?',\n",
       " 'output': 'The current wait time at hospital C is 26 minutes and 5 seconds.',\n",
       " 'intermediate_steps': [(AgentActionMessageLog(tool='Waits', tool_input='C', log='\\nInvoking: `Waits` with `C`\\n\\n\\n', message_log=[AIMessageChunk(content='', additional_kwargs={'function_call': {'arguments': '{\"__arg1\":\"C\"}', 'name': 'Waits'}}, response_metadata={'finish_reason': 'function_call'}, id='run-e9d66f8e-cf23-488f-99be-e3389e6a25f0')]),\n",
       "   2665)]}"
      ]
     },
     "execution_count": 3,
     "metadata": {},
     "output_type": "execute_result"
    }
   ],
   "source": [
    "hospital_agent_executor.invoke(\n",
    "    {\"input\": \"What is the current wait time at hospital C?\"}\n",
    ")"
   ]
  },
  {
   "cell_type": "code",
   "execution_count": 4,
   "metadata": {},
   "outputs": [
    {
     "name": "stdout",
     "output_type": "stream",
     "text": [
      "\n",
      "\n",
      "\u001b[1m> Entering new AgentExecutor chain...\u001b[0m\n",
      "\u001b[32;1m\u001b[1;3m\n",
      "Invoking: `Reviews` with `comfort at the hospital`\n",
      "\n",
      "\n",
      "\u001b[0m\u001b[36;1m\u001b[1;3mGregory Bentley found comfort in the patient-friendly atmosphere at Mcneil-Ali hospital, appreciating the recreational activities and support groups that provided a sense of community. Daniel Carter also had a comfortable stay at Wallace-Hamilton hospital, noting the efficiency of the medical team and the cleanliness of the facilities. Christine Jones and Donald Alexander both found the atmosphere at their respective hospitals, Jones, Brown and Murray and Pearson LLC, to be warm and welcoming. However, both patients mentioned that the noise level, particularly at night, made it difficult to rest properly.\u001b[0m\u001b[32;1m\u001b[1;3mPatients have shared positive experiences about their comfort at various hospitals. Gregory Bentley appreciated the patient-friendly atmosphere at Mcneil-Ali hospital, mentioning recreational activities and support groups that created a sense of community. Daniel Carter had a comfortable stay at Wallace-Hamilton hospital, highlighting the efficiency of the medical team and the cleanliness of the facilities. Christine Jones and Donald Alexander found the atmosphere at their hospitals, Jones, Brown and Murray and Pearson LLC, to be warm and welcoming, but mentioned that noise levels, especially at night, affected their ability to rest properly.\u001b[0m\n",
      "\n",
      "\u001b[1m> Finished chain.\u001b[0m\n"
     ]
    },
    {
     "data": {
      "text/plain": [
       "{'input': 'What have patietnts said about their comfort at the hospital',\n",
       " 'output': 'Patients have shared positive experiences about their comfort at various hospitals. Gregory Bentley appreciated the patient-friendly atmosphere at Mcneil-Ali hospital, mentioning recreational activities and support groups that created a sense of community. Daniel Carter had a comfortable stay at Wallace-Hamilton hospital, highlighting the efficiency of the medical team and the cleanliness of the facilities. Christine Jones and Donald Alexander found the atmosphere at their hospitals, Jones, Brown and Murray and Pearson LLC, to be warm and welcoming, but mentioned that noise levels, especially at night, affected their ability to rest properly.',\n",
       " 'intermediate_steps': [(AgentActionMessageLog(tool='Reviews', tool_input='comfort at the hospital', log='\\nInvoking: `Reviews` with `comfort at the hospital`\\n\\n\\n', message_log=[AIMessageChunk(content='', additional_kwargs={'function_call': {'arguments': '{\"__arg1\":\"comfort at the hospital\"}', 'name': 'Reviews'}}, response_metadata={'finish_reason': 'function_call'}, id='run-304de687-1d97-4bf6-b101-085c7753a73c')]),\n",
       "   'Gregory Bentley found comfort in the patient-friendly atmosphere at Mcneil-Ali hospital, appreciating the recreational activities and support groups that provided a sense of community. Daniel Carter also had a comfortable stay at Wallace-Hamilton hospital, noting the efficiency of the medical team and the cleanliness of the facilities. Christine Jones and Donald Alexander both found the atmosphere at their respective hospitals, Jones, Brown and Murray and Pearson LLC, to be warm and welcoming. However, both patients mentioned that the noise level, particularly at night, made it difficult to rest properly.')]}"
      ]
     },
     "execution_count": 4,
     "metadata": {},
     "output_type": "execute_result"
    }
   ],
   "source": [
    "hospital_agent_executor.invoke(\n",
    "    {\"input\": \"What have patietnts said about their comfort at the hospital\"}\n",
    ")"
   ]
  },
  {
   "cell_type": "code",
   "execution_count": null,
   "metadata": {},
   "outputs": [],
   "source": []
  }
 ],
 "metadata": {
  "kernelspec": {
   "display_name": "conversational_ai_2",
   "language": "python",
   "name": "python3"
  },
  "language_info": {
   "codemirror_mode": {
    "name": "ipython",
    "version": 3
   },
   "file_extension": ".py",
   "mimetype": "text/x-python",
   "name": "python",
   "nbconvert_exporter": "python",
   "pygments_lexer": "ipython3",
   "version": "3.11.9"
  }
 },
 "nbformat": 4,
 "nbformat_minor": 2
}
