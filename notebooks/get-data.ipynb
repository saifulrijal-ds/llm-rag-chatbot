{
 "cells": [
  {
   "cell_type": "code",
   "execution_count": 1,
   "metadata": {},
   "outputs": [],
   "source": [
    "HOSPITALS_CSV_PATH=\"https://raw.githubusercontent.com/hfhoffman1144/langchain_neo4j_rag_app/main/data/hospitals.csv\"\n",
    "PAYERS_CSV_PATH=\"https://raw.githubusercontent.com/hfhoffman1144/langchain_neo4j_rag_app/main/data/payers.csv\"\n",
    "PHYSICIANS_CSV_PATH=\"https://raw.githubusercontent.com/hfhoffman1144/langchain_neo4j_rag_app/main/data/physicians.csv\"\n",
    "PATIENTS_CSV_PATH=\"https://raw.githubusercontent.com/hfhoffman1144/langchain_neo4j_rag_app/main/data/patients.csv\"\n",
    "VISITS_CSV_PATH=\"https://raw.githubusercontent.com/hfhoffman1144/langchain_neo4j_rag_app/main/data/visits.csv\"\n",
    "REVIEWS_CSV_PATH=\"https://raw.githubusercontent.com/hfhoffman1144/langchain_neo4j_rag_app/main/data/reviews.csv\""
   ]
  },
  {
   "cell_type": "code",
   "execution_count": 2,
   "metadata": {},
   "outputs": [
    {
     "data": {
      "text/plain": [
       "{'__name__': '__main__',\n",
       " '__doc__': 'Automatically created module for IPython interactive environment',\n",
       " '__package__': None,\n",
       " '__loader__': None,\n",
       " '__spec__': None,\n",
       " '__builtin__': <module 'builtins' (built-in)>,\n",
       " '__builtins__': <module 'builtins' (built-in)>,\n",
       " '_ih': ['',\n",
       "  'HOSPITALS_CSV_PATH=\"https://raw.githubusercontent.com/hfhoffman1144/langchain_neo4j_rag_app/main/data/hospitals.csv\"\\nPAYERS_CSV_PATH=\"https://raw.githubusercontent.com/hfhoffman1144/langchain_neo4j_rag_app/main/data/payers.csv\"\\nPHYSICIANS_CSV_PATH=\"https://raw.githubusercontent.com/hfhoffman1144/langchain_neo4j_rag_app/main/data/physicians.csv\"\\nPATIENTS_CSV_PATH=\"https://raw.githubusercontent.com/hfhoffman1144/langchain_neo4j_rag_app/main/data/patients.csv\"\\nVISITS_CSV_PATH=\"https://raw.githubusercontent.com/hfhoffman1144/langchain_neo4j_rag_app/main/data/visits.csv\"\\nREVIEWS_CSV_PATH=\"https://raw.githubusercontent.com/hfhoffman1144/langchain_neo4j_rag_app/main/data/reviews.csv\"',\n",
       "  'globals()'],\n",
       " '_oh': {},\n",
       " '_dh': [PosixPath('/home/ubuntu/llm/llm-rag-chatbot/notebooks')],\n",
       " 'In': ['',\n",
       "  'HOSPITALS_CSV_PATH=\"https://raw.githubusercontent.com/hfhoffman1144/langchain_neo4j_rag_app/main/data/hospitals.csv\"\\nPAYERS_CSV_PATH=\"https://raw.githubusercontent.com/hfhoffman1144/langchain_neo4j_rag_app/main/data/payers.csv\"\\nPHYSICIANS_CSV_PATH=\"https://raw.githubusercontent.com/hfhoffman1144/langchain_neo4j_rag_app/main/data/physicians.csv\"\\nPATIENTS_CSV_PATH=\"https://raw.githubusercontent.com/hfhoffman1144/langchain_neo4j_rag_app/main/data/patients.csv\"\\nVISITS_CSV_PATH=\"https://raw.githubusercontent.com/hfhoffman1144/langchain_neo4j_rag_app/main/data/visits.csv\"\\nREVIEWS_CSV_PATH=\"https://raw.githubusercontent.com/hfhoffman1144/langchain_neo4j_rag_app/main/data/reviews.csv\"',\n",
       "  'globals()'],\n",
       " 'Out': {},\n",
       " 'get_ipython': <bound method InteractiveShell.get_ipython of <ipykernel.zmqshell.ZMQInteractiveShell object at 0x7f9f68bd5110>>,\n",
       " 'exit': <IPython.core.autocall.ZMQExitAutocall at 0x7f9f68be9990>,\n",
       " 'quit': <IPython.core.autocall.ZMQExitAutocall at 0x7f9f68be9990>,\n",
       " 'open': <function io.open(file, mode='r', buffering=-1, encoding=None, errors=None, newline=None, closefd=True, opener=None)>,\n",
       " '_': '',\n",
       " '__': '',\n",
       " '___': '',\n",
       " '__vsc_ipynb_file__': '/home/ubuntu/llm/llm-rag-chatbot/notebooks/get-data.ipynb',\n",
       " '_i': 'HOSPITALS_CSV_PATH=\"https://raw.githubusercontent.com/hfhoffman1144/langchain_neo4j_rag_app/main/data/hospitals.csv\"\\nPAYERS_CSV_PATH=\"https://raw.githubusercontent.com/hfhoffman1144/langchain_neo4j_rag_app/main/data/payers.csv\"\\nPHYSICIANS_CSV_PATH=\"https://raw.githubusercontent.com/hfhoffman1144/langchain_neo4j_rag_app/main/data/physicians.csv\"\\nPATIENTS_CSV_PATH=\"https://raw.githubusercontent.com/hfhoffman1144/langchain_neo4j_rag_app/main/data/patients.csv\"\\nVISITS_CSV_PATH=\"https://raw.githubusercontent.com/hfhoffman1144/langchain_neo4j_rag_app/main/data/visits.csv\"\\nREVIEWS_CSV_PATH=\"https://raw.githubusercontent.com/hfhoffman1144/langchain_neo4j_rag_app/main/data/reviews.csv\"',\n",
       " '_ii': '',\n",
       " '_iii': '',\n",
       " '_i1': 'HOSPITALS_CSV_PATH=\"https://raw.githubusercontent.com/hfhoffman1144/langchain_neo4j_rag_app/main/data/hospitals.csv\"\\nPAYERS_CSV_PATH=\"https://raw.githubusercontent.com/hfhoffman1144/langchain_neo4j_rag_app/main/data/payers.csv\"\\nPHYSICIANS_CSV_PATH=\"https://raw.githubusercontent.com/hfhoffman1144/langchain_neo4j_rag_app/main/data/physicians.csv\"\\nPATIENTS_CSV_PATH=\"https://raw.githubusercontent.com/hfhoffman1144/langchain_neo4j_rag_app/main/data/patients.csv\"\\nVISITS_CSV_PATH=\"https://raw.githubusercontent.com/hfhoffman1144/langchain_neo4j_rag_app/main/data/visits.csv\"\\nREVIEWS_CSV_PATH=\"https://raw.githubusercontent.com/hfhoffman1144/langchain_neo4j_rag_app/main/data/reviews.csv\"',\n",
       " 'HOSPITALS_CSV_PATH': 'https://raw.githubusercontent.com/hfhoffman1144/langchain_neo4j_rag_app/main/data/hospitals.csv',\n",
       " 'PAYERS_CSV_PATH': 'https://raw.githubusercontent.com/hfhoffman1144/langchain_neo4j_rag_app/main/data/payers.csv',\n",
       " 'PHYSICIANS_CSV_PATH': 'https://raw.githubusercontent.com/hfhoffman1144/langchain_neo4j_rag_app/main/data/physicians.csv',\n",
       " 'PATIENTS_CSV_PATH': 'https://raw.githubusercontent.com/hfhoffman1144/langchain_neo4j_rag_app/main/data/patients.csv',\n",
       " 'VISITS_CSV_PATH': 'https://raw.githubusercontent.com/hfhoffman1144/langchain_neo4j_rag_app/main/data/visits.csv',\n",
       " 'REVIEWS_CSV_PATH': 'https://raw.githubusercontent.com/hfhoffman1144/langchain_neo4j_rag_app/main/data/reviews.csv',\n",
       " '_i2': 'globals()'}"
      ]
     },
     "execution_count": 2,
     "metadata": {},
     "output_type": "execute_result"
    }
   ],
   "source": [
    "globals()"
   ]
  },
  {
   "cell_type": "code",
   "execution_count": 3,
   "metadata": {},
   "outputs": [],
   "source": [
    "paths = [globals()[path] for path in globals() if \"PATH\" in path]"
   ]
  },
  {
   "cell_type": "code",
   "execution_count": 4,
   "metadata": {},
   "outputs": [
    {
     "data": {
      "text/plain": [
       "['https://raw.githubusercontent.com/hfhoffman1144/langchain_neo4j_rag_app/main/data/hospitals.csv',\n",
       " 'https://raw.githubusercontent.com/hfhoffman1144/langchain_neo4j_rag_app/main/data/payers.csv',\n",
       " 'https://raw.githubusercontent.com/hfhoffman1144/langchain_neo4j_rag_app/main/data/physicians.csv',\n",
       " 'https://raw.githubusercontent.com/hfhoffman1144/langchain_neo4j_rag_app/main/data/patients.csv',\n",
       " 'https://raw.githubusercontent.com/hfhoffman1144/langchain_neo4j_rag_app/main/data/visits.csv',\n",
       " 'https://raw.githubusercontent.com/hfhoffman1144/langchain_neo4j_rag_app/main/data/reviews.csv']"
      ]
     },
     "execution_count": 4,
     "metadata": {},
     "output_type": "execute_result"
    }
   ],
   "source": [
    "paths"
   ]
  },
  {
   "cell_type": "code",
   "execution_count": 5,
   "metadata": {},
   "outputs": [
    {
     "data": {
      "text/plain": [
       "'hospitals.csv'"
      ]
     },
     "execution_count": 5,
     "metadata": {},
     "output_type": "execute_result"
    }
   ],
   "source": [
    "paths[0].split('/')[-1]"
   ]
  },
  {
   "cell_type": "code",
   "execution_count": 6,
   "metadata": {},
   "outputs": [],
   "source": [
    "import requests\n",
    "import os"
   ]
  },
  {
   "cell_type": "code",
   "execution_count": 7,
   "metadata": {},
   "outputs": [
    {
     "name": "stdout",
     "output_type": "stream",
     "text": [
      "Downloaded hospitals.csv to /home/ubuntu/llm/llm-rag-chatbot/data\n",
      "Downloaded payers.csv to /home/ubuntu/llm/llm-rag-chatbot/data\n",
      "Downloaded physicians.csv to /home/ubuntu/llm/llm-rag-chatbot/data\n",
      "Downloaded patients.csv to /home/ubuntu/llm/llm-rag-chatbot/data\n",
      "Downloaded visits.csv to /home/ubuntu/llm/llm-rag-chatbot/data\n",
      "Downloaded reviews.csv to /home/ubuntu/llm/llm-rag-chatbot/data\n"
     ]
    }
   ],
   "source": [
    "def download_file(url, local_path):\n",
    "    if not os.path.exists(local_path):\n",
    "        os.mkdir(local_path)\n",
    "\n",
    "    filename = url.split(\"/\")[-1]\n",
    "\n",
    "    with requests.get(url) as r:\n",
    "        r.raise_for_status()\n",
    "\n",
    "    with open(os.path.join(local_path, filename), 'wb') as f:\n",
    "        f.write(r.content)\n",
    "    print (f\"Downloaded {filename} to {local_path}\")\n",
    "\n",
    "local_path = '/home/ubuntu/llm/llm-rag-chatbot/data'\n",
    "for path in paths:\n",
    "    download_file(path, local_path)"
   ]
  },
  {
   "cell_type": "code",
   "execution_count": null,
   "metadata": {},
   "outputs": [],
   "source": []
  }
 ],
 "metadata": {
  "kernelspec": {
   "display_name": "conversational_ai_2",
   "language": "python",
   "name": "python3"
  },
  "language_info": {
   "codemirror_mode": {
    "name": "ipython",
    "version": 3
   },
   "file_extension": ".py",
   "mimetype": "text/x-python",
   "name": "python",
   "nbconvert_exporter": "python",
   "pygments_lexer": "ipython3",
   "version": "3.11.9"
  }
 },
 "nbformat": 4,
 "nbformat_minor": 2
}
