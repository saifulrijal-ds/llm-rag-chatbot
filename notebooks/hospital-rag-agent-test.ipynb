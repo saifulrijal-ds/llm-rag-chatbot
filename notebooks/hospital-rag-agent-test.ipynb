{
 "cells": [
  {
   "cell_type": "code",
   "execution_count": 1,
   "metadata": {},
   "outputs": [],
   "source": [
    "import os\n",
    "os.chdir(\"/home/ubuntu/llm/llm-rag-chatbot\")\n"
   ]
  },
  {
   "cell_type": "code",
   "execution_count": 2,
   "metadata": {},
   "outputs": [
    {
     "data": {
      "text/plain": [
       "True"
      ]
     },
     "execution_count": 2,
     "metadata": {},
     "output_type": "execute_result"
    }
   ],
   "source": [
    "from dotenv import load_dotenv\n",
    "load_dotenv()"
   ]
  },
  {
   "cell_type": "code",
   "execution_count": 16,
   "metadata": {},
   "outputs": [],
   "source": [
    "import os\n",
    "from langchain_openai import ChatOpenAI\n",
    "from langchain.agents import (\n",
    "    create_openai_functions_agent,\n",
    "    Tool,\n",
    "    AgentExecutor\n",
    ")\n",
    "from langchain import hub\n",
    "from chatbot_api.src.chains.hospital_review_chain import reviews_vector_chain\n",
    "from chatbot_api.src.chains.hospital_cypher_chain import hospital_cypher_chain\n",
    "from chatbot_api.src.tools.wait_times import (\n",
    "    get_current_wait_times,\n",
    "    get_most_available_hospital\n",
    ")\n",
    "\n",
    "HOSPITAL_AGENT_MODEL = os.getenv(\"HOSPITAL_AGENT_MODEL\")\n",
    "\n",
    "hospital_agent_prompt = hub.pull(\"hwchase17/openai-functions-agent\")\n",
    "\n",
    "tools  = [\n",
    "    Tool(\n",
    "        name=\"Experiences\",\n",
    "        func=reviews_vector_chain.invoke,\n",
    "        description=\"\"\"Useful when you need to answer questions about patient experiences, feelings, or any other qualitative question that could be answered about a patient using semantic search. \n",
    "        Not useful for answering objective questions that involve counting, percentages, aggregations, or listing facts. \n",
    "        Use the entire prompt as input to the tool. \n",
    "        For instance, if the prompt is \"Are patients satisfied with their care?\", the input should be \"Are patients satisfied with their care?\".\"\"\",\n",
    "    ),\n",
    "    Tool(\n",
    "        name=\"Graph\",\n",
    "        func=hospital_cypher_chain.invoke,\n",
    "        description=\"\"\"Useful for answering questions about patients, physicians, hospitals, insurance payers, patient review statistics, and hospital visit details. \n",
    "        Use the entire prompt as input to the tool. \n",
    "        For instance, if the prompt is \"How many visits have there been?\", the input should be \"How many visits have there been?\".\"\"\",\n",
    "    ),\n",
    "    Tool(\n",
    "        name=\"Waits\",\n",
    "        func=get_current_wait_times,\n",
    "        description=\"\"\"Use when asked about current wait times at a specific hospital. \n",
    "        This tool can only get the current wait time at a hospital and does not have any information about aggregate or historical wait times. \n",
    "        Do not pass the word \"hospital\" as input, only the hospital name itself. \n",
    "        For example, if the prompt is \"What is the current wait time at Jordan Inc Hospital?\", the input should be \"Jordan Inc\".\"\"\",\n",
    "    ),\n",
    "    Tool(\n",
    "        name=\"Availability\",\n",
    "        func=get_most_available_hospital,\n",
    "        description=\"\"\"Use when you need to find out which hospital has the shortest wait time. \n",
    "        This tool does not have any information about aggregate or historical wait times. \n",
    "        This tool returns a dictionary with the hospital name as the key and the wait time in minutes as the value.\"\"\",\n",
    "    ),\n",
    "]\n",
    "\n",
    "chat_model = ChatOpenAI(\n",
    "    model=HOSPITAL_AGENT_MODEL,\n",
    "    temperature=0\n",
    ")\n",
    "\n",
    "hospital_rag_agent = create_openai_functions_agent(\n",
    "    llm=chat_model,\n",
    "    prompt=hospital_agent_prompt,\n",
    "    tools=tools,\n",
    ")\n",
    "\n",
    "hospital_rag_agent_executor = AgentExecutor(\n",
    "    agent=hospital_rag_agent,\n",
    "    tools=tools,\n",
    "    return_intermediate_steps=True,\n",
    "    verbose=True\n",
    ")\n"
   ]
  },
  {
   "cell_type": "code",
   "execution_count": 4,
   "metadata": {},
   "outputs": [
    {
     "name": "stdout",
     "output_type": "stream",
     "text": [
      "\n",
      "\n",
      "\u001b[1m> Entering new AgentExecutor chain...\u001b[0m\n",
      "\u001b[32;1m\u001b[1;3m\n",
      "Invoking: `Waits` with `Wallace-Hamilton`\n",
      "\n",
      "\n",
      "\u001b[0m\u001b[38;5;200m\u001b[1;3m1 hours 45 minutes\u001b[0m\u001b[32;1m\u001b[1;3mThe current wait time at Wallace-Hamilton is 1 hour and 45 minutes.\u001b[0m\n",
      "\n",
      "\u001b[1m> Finished chain.\u001b[0m\n"
     ]
    }
   ],
   "source": [
    "response = hospital_rag_agent_executor.invoke(\n",
    "    {\"input\": \"What is the wait time at Wallace-Hamilton?\"}\n",
    ")"
   ]
  },
  {
   "cell_type": "code",
   "execution_count": 5,
   "metadata": {},
   "outputs": [
    {
     "data": {
      "text/plain": [
       "'The current wait time at Wallace-Hamilton is 1 hour and 45 minutes.'"
      ]
     },
     "execution_count": 5,
     "metadata": {},
     "output_type": "execute_result"
    }
   ],
   "source": [
    "response.get(\"output\")"
   ]
  },
  {
   "cell_type": "code",
   "execution_count": 6,
   "metadata": {},
   "outputs": [
    {
     "name": "stdout",
     "output_type": "stream",
     "text": [
      "\n",
      "\n",
      "\u001b[1m> Entering new AgentExecutor chain...\u001b[0m\n",
      "\u001b[32;1m\u001b[1;3m\n",
      "Invoking: `Availability` with `shortest wait time`\n",
      "\n",
      "\n",
      "\u001b[0m\u001b[36;1m\u001b[1;3m{'wheeler, bryant and johns': 31}\u001b[0m\u001b[32;1m\u001b[1;3mThe hospital with the shortest wait time is Wheeler, Bryant and Johns, with a wait time of 31 minutes.\u001b[0m\n",
      "\n",
      "\u001b[1m> Finished chain.\u001b[0m\n"
     ]
    }
   ],
   "source": [
    "response = hospital_rag_agent_executor.invoke(\n",
    "    {\"input\": \"Which hospital has the shortest wait time?\"}\n",
    ")"
   ]
  },
  {
   "cell_type": "code",
   "execution_count": 7,
   "metadata": {},
   "outputs": [
    {
     "data": {
      "text/plain": [
       "'The hospital with the shortest wait time is Wheeler, Bryant and Johns, with a wait time of 31 minutes.'"
      ]
     },
     "execution_count": 7,
     "metadata": {},
     "output_type": "execute_result"
    }
   ],
   "source": [
    "response.get(\"output\")"
   ]
  },
  {
   "cell_type": "code",
   "execution_count": 8,
   "metadata": {},
   "outputs": [
    {
     "name": "stdout",
     "output_type": "stream",
     "text": [
      "\n",
      "\n",
      "\u001b[1m> Entering new AgentExecutor chain...\u001b[0m\n",
      "\u001b[32;1m\u001b[1;3m\n",
      "Invoking: `Experiences` with `What have patients said about their quality of rest during their stay?`\n",
      "\n",
      "\n",
      "\u001b[0m\u001b[36;1m\u001b[1;3m{'query': 'What have patients said about their quality of rest during their stay?', 'result': \"Patients have mentioned that the quality of rest during their stay at different hospitals was affected by various factors. Monique Foster at Pearson LLC found it challenging to get a good night's sleep due to constant interruptions for routine checks. Heather Lewis at Brown-Golden mentioned that the constant beeping of machines in the ward was bothersome and made it difficult to get quality rest. Ashley Solis, also at Brown-Golden, highlighted that the noise level in shared rooms made it difficult to get a good night's sleep.\"}\u001b[0m\u001b[32;1m\u001b[1;3mPatients have mentioned that the quality of rest during their stay at different hospitals was affected by various factors. For example, Monique Foster at Pearson LLC found it challenging to get a good night's sleep due to constant interruptions for routine checks. Heather Lewis at Brown-Golden mentioned that the constant beeping of machines in the ward was bothersome and made it difficult to get quality rest. Ashley Solis, also at Brown-Golden, highlighted that the noise level in shared rooms made it difficult to get a good night's sleep.\u001b[0m\n",
      "\n",
      "\u001b[1m> Finished chain.\u001b[0m\n"
     ]
    }
   ],
   "source": [
    "response = hospital_rag_agent_executor.invoke(\n",
    "    {\n",
    "        \"input\": (\n",
    "            \"What have pateients said about their \"\n",
    "            \"quality of rest during their stay?\"\n",
    "        )\n",
    "    }\n",
    ")"
   ]
  },
  {
   "cell_type": "code",
   "execution_count": 9,
   "metadata": {},
   "outputs": [
    {
     "data": {
      "text/plain": [
       "\"Patients have mentioned that the quality of rest during their stay at different hospitals was affected by various factors. For example, Monique Foster at Pearson LLC found it challenging to get a good night's sleep due to constant interruptions for routine checks. Heather Lewis at Brown-Golden mentioned that the constant beeping of machines in the ward was bothersome and made it difficult to get quality rest. Ashley Solis, also at Brown-Golden, highlighted that the noise level in shared rooms made it difficult to get a good night's sleep.\""
      ]
     },
     "execution_count": 9,
     "metadata": {},
     "output_type": "execute_result"
    }
   ],
   "source": [
    "response.get(\"output\")"
   ]
  },
  {
   "cell_type": "code",
   "execution_count": 10,
   "metadata": {},
   "outputs": [
    {
     "name": "stdout",
     "output_type": "stream",
     "text": [
      "\n",
      "\n",
      "\u001b[1m> Entering new AgentExecutor chain...\u001b[0m\n",
      "\u001b[32;1m\u001b[1;3m\n",
      "Invoking: `Grpah` with `Which physician has treated the most patients covered by Cigna?`\n",
      "\n",
      "\n",
      "\u001b[0m\n",
      "\n",
      "\u001b[1m> Entering new GraphCypherQAChain chain...\u001b[0m\n",
      "Generated Cypher:\n",
      "\u001b[32;1m\u001b[1;3mMATCH (phy:Physician)-[:TREATS]->(v:Visit)-[:COVERED_BY]->(p:Payer)\n",
      "WHERE p.name = 'Cigna'\n",
      "WITH phy, COUNT(DISTINCT v) AS patient_count\n",
      "RETURN phy.name AS physician_name, patient_count\n",
      "ORDER BY patient_count DESC\n",
      "LIMIT 1\u001b[0m\n",
      "Full Context:\n",
      "\u001b[32;1m\u001b[1;3m[{'physician_name': 'Kayla Lawson', 'patient_count': 10}]\u001b[0m\n",
      "\n",
      "\u001b[1m> Finished chain.\u001b[0m\n",
      "\u001b[33;1m\u001b[1;3m{'query': 'Which physician has treated the most patients covered by Cigna?', 'result': 'The physician who has treated the most patients covered by Cigna is Kayla Lawson, with a patient count of 10.'}\u001b[0m\u001b[32;1m\u001b[1;3mThe physician who has treated the most patients covered by Cigna is Kayla Lawson, with a patient count of 10.\u001b[0m\n",
      "\n",
      "\u001b[1m> Finished chain.\u001b[0m\n"
     ]
    }
   ],
   "source": [
    "response = hospital_rag_agent_executor.invoke(\n",
    "    {\n",
    "        \"input\": (\n",
    "            \"Which physician has treated the \"\n",
    "            \"most patients covered by Cigna?\"\n",
    "        )\n",
    "    }\n",
    ")"
   ]
  },
  {
   "cell_type": "code",
   "execution_count": 11,
   "metadata": {},
   "outputs": [
    {
     "data": {
      "text/plain": [
       "'The physician who has treated the most patients covered by Cigna is Kayla Lawson, with a patient count of 10.'"
      ]
     },
     "execution_count": 11,
     "metadata": {},
     "output_type": "execute_result"
    }
   ],
   "source": [
    "response.get(\"output\")"
   ]
  },
  {
   "cell_type": "code",
   "execution_count": 14,
   "metadata": {},
   "outputs": [
    {
     "name": "stdout",
     "output_type": "stream",
     "text": [
      "\n",
      "\n",
      "\u001b[1m> Entering new AgentExecutor chain...\u001b[0m\n",
      "\u001b[32;1m\u001b[1;3m\n",
      "Invoking: `Experiences` with `Show me reviews written by patient 7674.`\n",
      "\n",
      "\n",
      "\u001b[0m\u001b[36;1m\u001b[1;3m{'query': 'Show me reviews written by patient 7674.', 'result': 'I\\'m sorry, but there is no review provided by a patient with the identifier \"7674\" in the context given. If you have any other questions or need information, feel free to ask.'}\u001b[0m\u001b[32;1m\u001b[1;3mI'm sorry, but there is no review provided by a patient with the identifier \"7674\" in the context given. If you have any other questions or need information, feel free to ask.\u001b[0m\n",
      "\n",
      "\u001b[1m> Finished chain.\u001b[0m\n"
     ]
    }
   ],
   "source": [
    "response = hospital_rag_agent_executor.invoke(\n",
    "    {\"input\": \"Show me reviews written by patient 7674.\"}\n",
    ")"
   ]
  },
  {
   "cell_type": "code",
   "execution_count": 17,
   "metadata": {},
   "outputs": [
    {
     "name": "stdout",
     "output_type": "stream",
     "text": [
      "\n",
      "\n",
      "\u001b[1m> Entering new AgentExecutor chain...\u001b[0m\n",
      "\u001b[32;1m\u001b[1;3m\n",
      "Invoking: `Graph` with `Show me the reviews written by patient 7674`\n",
      "\n",
      "\n",
      "\u001b[0m\n",
      "\n",
      "\u001b[1m> Entering new GraphCypherQAChain chain...\u001b[0m\n",
      "Generated Cypher:\n",
      "\u001b[32;1m\u001b[1;3mMATCH (p:Patient {id: 7674})-[:HAS]->(v:Visit)-[:WRITES]->(r:Review)\n",
      "RETURN r.text AS review_written\n",
      "\u001b[0m\n",
      "Full Context:\n",
      "\u001b[32;1m\u001b[1;3m[{'review_written': 'The hospital provided exceptional care, but the billing process was confusing and frustrating. Clearer communication about costs would have been appreciated.'}]\u001b[0m\n",
      "\n",
      "\u001b[1m> Finished chain.\u001b[0m\n",
      "\u001b[33;1m\u001b[1;3m{'query': 'Show me the reviews written by patient 7674', 'result': 'Patient 7674 wrote the following review: \"The hospital provided exceptional care, but the billing process was confusing and frustrating. Clearer communication about costs would have been appreciated.\"'}\u001b[0m\u001b[32;1m\u001b[1;3mPatient 7674 wrote the following review: \"The hospital provided exceptional care, but the billing process was confusing and frustrating. Clearer communication about costs would have been appreciated.\"\u001b[0m\n",
      "\n",
      "\u001b[1m> Finished chain.\u001b[0m\n"
     ]
    }
   ],
   "source": [
    "response = hospital_rag_agent_executor.invoke(\n",
    "    {\"input\": (\n",
    "        \"Query the graph database to show me \"\n",
    "        \"the reviews written by patient 7674\"\n",
    "    )}\n",
    ")"
   ]
  },
  {
   "cell_type": "code",
   "execution_count": 18,
   "metadata": {},
   "outputs": [
    {
     "data": {
      "text/plain": [
       "'Patient 7674 wrote the following review: \"The hospital provided exceptional care, but the billing process was confusing and frustrating. Clearer communication about costs would have been appreciated.\"'"
      ]
     },
     "execution_count": 18,
     "metadata": {},
     "output_type": "execute_result"
    }
   ],
   "source": [
    "response.get(\"output\")"
   ]
  },
  {
   "cell_type": "code",
   "execution_count": null,
   "metadata": {},
   "outputs": [],
   "source": []
  }
 ],
 "metadata": {
  "kernelspec": {
   "display_name": "conversational_ai_2",
   "language": "python",
   "name": "python3"
  },
  "language_info": {
   "codemirror_mode": {
    "name": "ipython",
    "version": 3
   },
   "file_extension": ".py",
   "mimetype": "text/x-python",
   "name": "python",
   "nbconvert_exporter": "python",
   "pygments_lexer": "ipython3",
   "version": "3.11.9"
  }
 },
 "nbformat": 4,
 "nbformat_minor": 2
}
