{
 "cells": [
  {
   "cell_type": "code",
   "execution_count": 1,
   "metadata": {},
   "outputs": [],
   "source": [
    "import dotenv\n",
    "from langchain_community.chat_models.pai_eas_endpoint import PaiEasChatEndpoint\n",
    "from langchain_together.chat_models import ChatTogether\n",
    "from langchain_openai.chat_models import ChatOpenAI\n",
    "import os\n",
    "\n",
    "dotenv.load_dotenv('../.env')\n",
    "\n",
    "# Qwen1.5-14B; PAI-EAS\n",
    "chat_model_qwen = PaiEasChatEndpoint(\n",
    "    eas_service_url=os.environ[\"EAS_SERVICE_URL\"],\n",
    "    eas_service_token=os.environ[\"EAS_SERVICE_TOKEN\"],\n",
    "    temperature=0.1,\n",
    "    max_new_tokens=128\n",
    ")\n",
    "\n",
    "# GPT-3.5\n",
    "chat_model_gpt = ChatOpenAI(\n",
    "    model='gpt-3.5-turbo',\n",
    "    temperature=0.1,\n",
    "    max_tokens=128\n",
    "    )\n",
    "\n",
    "# Qwen1.5-110B\n",
    "chat_model_together = ChatTogether(\n",
    "    model=\"Qwen/Qwen1.5-110B-Chat\",\n",
    "    temperature=0.1,\n",
    "    max_tokens=128\n",
    ")\n",
    "\n",
    "# Llama-3-8B\n",
    "chat_model_llama = ChatTogether(\n",
    "    model='meta-llama/Llama-3-8b-chat-hf',\n",
    "    temperature=0.1,\n",
    "    max_tokens=128\n",
    ")\n",
    "\n",
    "# Qwen2-72B\n",
    "chat_model_qwen2 = ChatTogether(\n",
    "    model='Qwen/Qwen2-72B-Instruct',\n",
    "    temperature=0.1,\n",
    "    max_tokens=128\n",
    ")\n",
    "\n",
    "# Llama2-7B\n",
    "chat_model_llama2 = ChatTogether(\n",
    "    model='meta-llama/Llama-2-7b-chat-hf',\n",
    "    temperature=0.1,\n",
    "    max_tokens=128\n",
    ")\n",
    "\n",
    "# Qwen1.5-7B\n",
    "chat_model_qwen7b = ChatTogether(\n",
    "    model='Qwen/Qwen1.5-7B-Chat',\n",
    "    temperature=0.1,\n",
    "    max_tokens=128\n",
    ")\n",
    "\n",
    "# Qwen1.5-14B; TogetherAI\n",
    "chat_model_qwen14b = ChatTogether(\n",
    "    model='Qwen/Qwen1.5-14B-Chat',\n",
    "    temperature=0.1,\n",
    "    max_tokens=128\n",
    ")"
   ]
  },
  {
   "cell_type": "code",
   "execution_count": 2,
   "metadata": {},
   "outputs": [],
   "source": [
    "from langchain_core.messages import SystemMessage, HumanMessage\n",
    "\n",
    "messages = [\n",
    "    SystemMessage(content=\"\"\"You're an assistant knowledgeable about healtcare. \n",
    "                  Only answer healthcare-related questions.\"\"\"),\n",
    "    HumanMessage(content=\"\"\"What is the difference between a patient and a doctor?\n",
    "                  \"\"\"),\n",
    "]"
   ]
  },
  {
   "cell_type": "code",
   "execution_count": 4,
   "metadata": {},
   "outputs": [
    {
     "data": {
      "text/plain": [
       "AIMessage(content='A patient is an individual who seeks medical care and treatment from a healthcare provider, such as a doctor. A doctor, on the other hand, is a trained and licensed healthcare professional who diagnoses, treats, and manages the health of patients. The key difference is that a patient receives medical care, while a doctor provides medical care.', response_metadata={'token_usage': {'completion_tokens': 66, 'prompt_tokens': 41, 'total_tokens': 107}, 'model_name': 'gpt-3.5-turbo', 'system_fingerprint': None, 'finish_reason': 'stop', 'logprobs': None}, id='run-84f94bd4-d828-4140-9a66-a9c95c3e81f3-0', usage_metadata={'input_tokens': 41, 'output_tokens': 66, 'total_tokens': 107})"
      ]
     },
     "execution_count": 4,
     "metadata": {},
     "output_type": "execute_result"
    }
   ],
   "source": [
    "chat_model_gpt.invoke(messages)"
   ]
  },
  {
   "cell_type": "code",
   "execution_count": 5,
   "metadata": {},
   "outputs": [
    {
     "data": {
      "text/plain": [
       "AIMessage(content=\"A patient and a doctor have distinct roles in the healthcare system:\\n\\n1. **Patient**: A patient is an individual seeking medical care or treatment for their health concerns, whether it's an acute illness, chronic condition, or preventive care. Patients typically present with symptoms, undergo diagnostic tests, and follow the advice of their healthcare providers. They rely on doctors to diagnose, treat, and manage their health issues.\\n\\n2. **Doctor**: A doctor, also known as a physician, is a healthcare professional who has completed extensive education and training to diagnose and treat various medical conditions. They hold a medical degree (MD or MBBS) and are licensed\", id='run-1fd453a6-1c44-4240-a1a3-4298aa5b9c5e-0')"
      ]
     },
     "execution_count": 5,
     "metadata": {},
     "output_type": "execute_result"
    }
   ],
   "source": [
    "chat_model_qwen.invoke(messages)"
   ]
  },
  {
   "cell_type": "code",
   "execution_count": 13,
   "metadata": {},
   "outputs": [
    {
     "data": {
      "text/plain": [
       "AIMessage(content=\"A patient is an individual who seeks medical care, treatment, or advice due to an illness, injury, or a health condition. They are the recipient of healthcare services and collaborate with healthcare professionals to manage their health.\\n\\nA doctor, on the other hand, is a healthcare professional who has completed the necessary education and training to diagnose, treat, and prevent diseases and medical conditions. They are also responsible for providing medical advice, creating treatment plans, and making decisions about a patient's healthcare. Doctors can specialize in various fields such as general practice (family medicine), pediatrics, surgery, internal medicine, and many others.\\n\\nIn summary, the patient\", response_metadata={'token_usage': {'completion_tokens': 128, 'prompt_tokens': 43, 'total_tokens': 171}, 'model_name': 'Qwen/Qwen1.5-110B-Chat', 'system_fingerprint': None, 'finish_reason': 'length', 'logprobs': None}, id='run-2fa861e5-0ef4-45b7-aa40-1bb5ca59a234-0', usage_metadata={'input_tokens': 43, 'output_tokens': 128, 'total_tokens': 171})"
      ]
     },
     "execution_count": 13,
     "metadata": {},
     "output_type": "execute_result"
    }
   ],
   "source": [
    "chat_model_together.invoke(messages)"
   ]
  },
  {
   "cell_type": "code",
   "execution_count": 18,
   "metadata": {},
   "outputs": [
    {
     "data": {
      "text/plain": [
       "AIMessage(content='In the context of healthcare, a patient is an individual who receives medical care or treatment from a healthcare provider, such as a doctor, nurse, or other medical professional. Patients may be seeking medical attention for a specific condition, injury, or illness, or they may be receiving routine care, such as check-ups or vaccinations.\\n\\nOn the other hand, a doctor, also known as a physician, is a trained medical professional who provides medical care and treatment to patients. Doctors are educated and licensed to diagnose and treat a wide range of medical conditions, and they may work in various settings, such as hospitals, clinics, private practices, or research', response_metadata={'token_usage': {'completion_tokens': 128, 'prompt_tokens': 44, 'total_tokens': 172}, 'model_name': 'meta-llama/Llama-3-8b-chat-hf', 'system_fingerprint': None, 'finish_reason': 'length', 'logprobs': None}, id='run-d6d8e1c2-34f8-4298-b091-58e81d4b8d4a-0', usage_metadata={'input_tokens': 44, 'output_tokens': 128, 'total_tokens': 172})"
      ]
     },
     "execution_count": 18,
     "metadata": {},
     "output_type": "execute_result"
    }
   ],
   "source": [
    "chat_model_llama.invoke(messages)"
   ]
  },
  {
   "cell_type": "code",
   "execution_count": 23,
   "metadata": {},
   "outputs": [
    {
     "data": {
      "text/plain": [
       "AIMessage(content='In the healthcare context, the difference between a patient and a doctor is primarily defined by their roles and responsibilities:\\n\\n1. **Patient**: A patient is an individual who receives medical care, treatment, or advice from a healthcare provider. Patients may seek medical attention for various reasons, including illness, injury, preventive care, or health maintenance. They are the recipients of healthcare services.\\n\\n2. **Doctor**: A doctor, also known as a physician, is a healthcare professional who has completed extensive education and training in medicine. Doctors are licensed to diagnose and treat diseases, injuries, and health conditions. They provide medical care, prescribe medications, perform surgeries', response_metadata={'token_usage': {'completion_tokens': 128, 'prompt_tokens': 43, 'total_tokens': 171}, 'model_name': 'Qwen/Qwen2-72B-Instruct', 'system_fingerprint': None, 'finish_reason': 'length', 'logprobs': None}, id='run-285ff6a2-4597-455c-b9b8-850a7db40138-0', usage_metadata={'input_tokens': 43, 'output_tokens': 128, 'total_tokens': 171})"
      ]
     },
     "execution_count": 23,
     "metadata": {},
     "output_type": "execute_result"
    }
   ],
   "source": [
    "chat_model_qwen2.invoke(messages)"
   ]
  },
  {
   "cell_type": "code",
   "execution_count": 30,
   "metadata": {},
   "outputs": [
    {
     "data": {
      "text/plain": [
       "AIMessage(content='  Great question! A patient is an individual who receives medical care or treatment from a healthcare provider, such as a doctor, nurse, or other medical professional. A doctor, on the other hand, is a licensed medical professional who provides medical care or treatment to patients.\\n\\nIn other words, a patient is the person who seeks medical attention, while a doctor is the healthcare provider who provides that attention. Doctors can include various types of medical professionals, such as primary care physicians, specialists, surgeons, and other medical specialists.\\n\\nSome key differences between patients and doctors', response_metadata={'token_usage': {'completion_tokens': 128, 'prompt_tokens': 60, 'total_tokens': 188}, 'model_name': 'meta-llama/Llama-2-7b-chat-hf', 'system_fingerprint': None, 'finish_reason': 'length', 'logprobs': None}, id='run-2aceab4e-9a62-4aee-aaa1-1d2c406b7e3f-0', usage_metadata={'input_tokens': 60, 'output_tokens': 128, 'total_tokens': 188})"
      ]
     },
     "execution_count": 30,
     "metadata": {},
     "output_type": "execute_result"
    }
   ],
   "source": [
    "chat_model_llama2.invoke(messages)"
   ]
  },
  {
   "cell_type": "code",
   "execution_count": 3,
   "metadata": {},
   "outputs": [],
   "source": [
    "from langchain_core.messages import SystemMessage, HumanMessage\n",
    "\n",
    "messages = [\n",
    "    SystemMessage(content=\"\"\"You're an assistant knowledgeable about healtcare. \n",
    "                  Only answer healthcare-related questions.\"\"\"),\n",
    "    HumanMessage(content=\"\"\"How do I change a tire?\"\"\"),\n",
    "]"
   ]
  },
  {
   "cell_type": "code",
   "execution_count": 7,
   "metadata": {},
   "outputs": [
    {
     "data": {
      "text/plain": [
       "AIMessage(content=\"I'm here to help with healthcare-related questions. If you have any health-related inquiries, feel free to ask!\", response_metadata={'token_usage': {'completion_tokens': 23, 'prompt_tokens': 36, 'total_tokens': 59}, 'model_name': 'gpt-3.5-turbo', 'system_fingerprint': None, 'finish_reason': 'stop', 'logprobs': None}, id='run-f92b06dd-6c40-4805-af3d-b5451c19b974-0', usage_metadata={'input_tokens': 36, 'output_tokens': 23, 'total_tokens': 59})"
      ]
     },
     "execution_count": 7,
     "metadata": {},
     "output_type": "execute_result"
    }
   ],
   "source": [
    "chat_model_gpt.invoke(messages)"
   ]
  },
  {
   "cell_type": "code",
   "execution_count": 8,
   "metadata": {},
   "outputs": [
    {
     "data": {
      "text/plain": [
       "AIMessage(content=\"Changing a tire is a basic automotive skill that can be helpful in emergencies. Here's a step-by-step guide to changing a tire:\\n\\n1. **Find a safe location**: If you have a flat tire, pull over to a flat, level surface away from traffic, ideally with the hazard lights on. If you're on the road, engage the parking brake and place a wheel chock or a brick behind the opposite tire to prevent the car from rolling.\\n\\n2. **Get the necessary tools**: You'll need a spare tire, a lug wrench (usually found in the trunk), and a jack (also in the trunk). Make sure\", id='run-77ec77fb-7893-4085-81b6-67c82c4a94d3-0')"
      ]
     },
     "execution_count": 8,
     "metadata": {},
     "output_type": "execute_result"
    }
   ],
   "source": [
    "chat_model_qwen.invoke(messages)"
   ]
  },
  {
   "cell_type": "code",
   "execution_count": 15,
   "metadata": {},
   "outputs": [
    {
     "data": {
      "text/plain": [
       "AIMessage(content=\"I'm sorry, but I'm unable to assist with that as it's not related to healthcare. For instructions on changing a tire, you may want to refer to a automotive guide or online tutorials designed for that purpose. Always ensure safety precautions are taken when working on a vehicle.\", response_metadata={'token_usage': {'completion_tokens': 57, 'prompt_tokens': 38, 'total_tokens': 95}, 'model_name': 'Qwen/Qwen1.5-110B-Chat', 'system_fingerprint': None, 'finish_reason': 'eos', 'logprobs': None}, id='run-492a7bf0-9e27-4b2a-956e-25e68fe7addf-0', usage_metadata={'input_tokens': 38, 'output_tokens': 57, 'total_tokens': 95})"
      ]
     },
     "execution_count": 15,
     "metadata": {},
     "output_type": "execute_result"
    }
   ],
   "source": [
    "chat_model_together.invoke(messages)"
   ]
  },
  {
   "cell_type": "code",
   "execution_count": 20,
   "metadata": {},
   "outputs": [
    {
     "data": {
      "text/plain": [
       "AIMessage(content=\"I'm happy to help you with changing a tire! However, I'm a healthcare assistant, and I'd like to clarify that changing a tire is not a healthcare-related topic. If you're experiencing a medical emergency or need assistance with a medical issue, please let me know and I'll do my best to help.\\n\\nIf you're looking for general information on how to change a tire, I can provide you with some general steps. But please note that it's always best to consult your vehicle's owner's manual or seek guidance from a trusted mechanic for specific instructions.\\n\\nHere are some general steps to change a tire:\\n\\n1. Find a\", response_metadata={'token_usage': {'completion_tokens': 128, 'prompt_tokens': 40, 'total_tokens': 168}, 'model_name': 'meta-llama/Llama-3-8b-chat-hf', 'system_fingerprint': None, 'finish_reason': 'length', 'logprobs': None}, id='run-c7960aad-f8b8-49bc-90d1-74cd2a50f297-0', usage_metadata={'input_tokens': 40, 'output_tokens': 128, 'total_tokens': 168})"
      ]
     },
     "execution_count": 20,
     "metadata": {},
     "output_type": "execute_result"
    }
   ],
   "source": [
    "chat_model_llama.invoke(messages)"
   ]
  },
  {
   "cell_type": "code",
   "execution_count": 25,
   "metadata": {},
   "outputs": [
    {
     "data": {
      "text/plain": [
       "AIMessage(content=\"I'm here to help with healthcare-related questions, but changing a tire is a common task that doesn't fall under healthcare. However, I can guide you on how to seek help for injuries related to car maintenance or direct you to resources that can help you learn about car safety and injury prevention. If you have any health-related concerns, feel free to ask!\", response_metadata={'token_usage': {'completion_tokens': 73, 'prompt_tokens': 38, 'total_tokens': 111}, 'model_name': 'Qwen/Qwen2-72B-Instruct', 'system_fingerprint': None, 'finish_reason': 'eos', 'logprobs': None}, id='run-e2c51b0d-9259-4a1c-b5bd-6da92b4ad339-0', usage_metadata={'input_tokens': 38, 'output_tokens': 73, 'total_tokens': 111})"
      ]
     },
     "execution_count": 25,
     "metadata": {},
     "output_type": "execute_result"
    }
   ],
   "source": [
    "chat_model_qwen2.invoke(messages)"
   ]
  },
  {
   "cell_type": "code",
   "execution_count": 34,
   "metadata": {},
   "outputs": [
    {
     "data": {
      "text/plain": [
       "AIMessage(content=\"  I'm happy to help with any healthcare-related questions you may have, but changing a tire is not a healthcare-related topic. However, I can provide general instructions on how to change a tire if you'd like. Please let me know if you have any other healthcare-related questions.\", response_metadata={'token_usage': {'completion_tokens': 68, 'prompt_tokens': 54, 'total_tokens': 122}, 'model_name': 'meta-llama/Llama-2-7b-chat-hf', 'system_fingerprint': None, 'finish_reason': 'eos', 'logprobs': None}, id='run-7f0762b6-dd49-4eb2-966f-7c6eacd94631-0', usage_metadata={'input_tokens': 54, 'output_tokens': 68, 'total_tokens': 122})"
      ]
     },
     "execution_count": 34,
     "metadata": {},
     "output_type": "execute_result"
    }
   ],
   "source": [
    "chat_model_llama2.invoke(messages)"
   ]
  },
  {
   "cell_type": "code",
   "execution_count": 37,
   "metadata": {},
   "outputs": [
    {
     "data": {
      "text/plain": [
       "AIMessage(content=\"Changing a tire can be a hands-on task, but it's essential to know the basic steps to do it safely. Here's a general guide for changing a tire on a car:\\n\\n1. **Find a safe location**: Move your vehicle to a flat, clear area away from traffic, and turn on your hazard lights. If you have a low-profile tire or a spare that's difficult to reach, consider using a jack stand or a flat surface to support the car.\\n\\n2. **Loosen the lug nuts**: Use a lug wrench to loosen the lug nuts on the flat tire, but don't remove them completely. You should be\", response_metadata={'token_usage': {'completion_tokens': 128, 'prompt_tokens': 38, 'total_tokens': 166}, 'model_name': 'Qwen/Qwen1.5-7B-Chat', 'system_fingerprint': None, 'finish_reason': 'length', 'logprobs': None}, id='run-6d8d679b-bc0d-4a09-9f83-ba4e2f643653-0', usage_metadata={'input_tokens': 38, 'output_tokens': 128, 'total_tokens': 166})"
      ]
     },
     "execution_count": 37,
     "metadata": {},
     "output_type": "execute_result"
    }
   ],
   "source": [
    "chat_model_qwen7b.invoke(messages)"
   ]
  },
  {
   "cell_type": "code",
   "execution_count": 4,
   "metadata": {},
   "outputs": [
    {
     "data": {
      "text/plain": [
       "AIMessage(content=\"Changing a tire is a basic automotive skill that can be helpful in emergencies. Here's a step-by-step guide to changing a tire:\\n\\n1. **Find a safe location**: If you have a flat tire, pull over to a flat, level surface away from traffic, ideally with the hazard lights on. If you're on the road, engage the parking brake and place a wheel chock or large rock behind the opposite wheel to prevent the car from rolling.\\n\\n2. **Get the necessary tools**: You'll need a spare tire, a lug wrench (usually found in the trunk), and a jack (also in the trunk). Make sure\", response_metadata={'token_usage': {'completion_tokens': 128, 'prompt_tokens': 38, 'total_tokens': 166}, 'model_name': 'Qwen/Qwen1.5-14B-Chat', 'system_fingerprint': None, 'finish_reason': 'length', 'logprobs': None}, id='run-5a606bcd-5513-4a5b-9d29-0b0a84c579f6-0', usage_metadata={'input_tokens': 38, 'output_tokens': 128, 'total_tokens': 166})"
      ]
     },
     "execution_count": 4,
     "metadata": {},
     "output_type": "execute_result"
    }
   ],
   "source": [
    "chat_model_qwen14b.invoke(messages)"
   ]
  },
  {
   "cell_type": "code",
   "execution_count": null,
   "metadata": {},
   "outputs": [],
   "source": []
  }
 ],
 "metadata": {
  "kernelspec": {
   "display_name": "conversational_ai_2",
   "language": "python",
   "name": "python3"
  },
  "language_info": {
   "codemirror_mode": {
    "name": "ipython",
    "version": 3
   },
   "file_extension": ".py",
   "mimetype": "text/x-python",
   "name": "python",
   "nbconvert_exporter": "python",
   "pygments_lexer": "ipython3",
   "version": "3.11.9"
  }
 },
 "nbformat": 4,
 "nbformat_minor": 2
}
